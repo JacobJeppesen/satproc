{
 "cells": [
  {
   "cell_type": "code",
   "execution_count": null,
   "metadata": {
    "ExecuteTime": {
     "end_time": "2021-07-16T13:40:19.321537Z",
     "start_time": "2021-07-16T13:40:19.308007Z"
    },
    "execution": {
     "iopub.execute_input": "2021-07-16T12:31:26.111337Z",
     "iopub.status.busy": "2021-07-16T12:31:26.110703Z",
     "iopub.status.idle": "2021-07-16T12:31:26.121154Z",
     "shell.execute_reply": "2021-07-16T12:31:26.119643Z",
     "shell.execute_reply.started": "2021-07-16T12:31:26.111281Z"
    }
   },
   "outputs": [],
   "source": [
    "# Create reference images in EPSG:4326\n",
    "# Note: Un-comment if you only have reference image in a different epsg\n",
    "'''\n",
    "!gdalwarp -of GTiff -t_srs EPSG:4326 -multi -wo NUM_THREADS=ALL_CPUS --config GDAL_CACHEMAX 16384 data/reference/ortofoto_reference_epsg32632.tif data/reference/ortofoto_reference_epsg4326.tif\n",
    "!gdal_translate data/reference/ortofoto_reference_epsg4326.tif data/reference/ortofoto_reference_epsg4326_cog.tif -of COG -co COMPRESS=DEFLATE -co NUM_THREADS=ALL_CPUS -co BIGTIFF=YES --config GDAL_CACHEMAX 16384\n",
    "!rm data/reference/ortofoto_reference_epsg4326.tif\n",
    "!mv data/reference/ortofoto_reference_epsg4326_cog.tif data/reference/ortofoto_reference_epsg4326.tif\n",
    "\n",
    "!gdalwarp -of GTiff -t_srs EPSG:4326 -multi -wo NUM_THREADS=ALL_CPUS --config GDAL_CACHEMAX 16384 data/reference/ortofoto_reference_epsg32632_nodata_mask.tif data/reference/ortofoto_reference_epsg4326_nodata_mask.tif\n",
    "!gdal_translate data/reference/ortofoto_reference_epsg4326_nodata_mask.tif data/reference/ortofoto_reference_epsg4326_nodata_mask_cog.tif -of COG -co COMPRESS=DEFLATE -co NUM_THREADS=ALL_CPUS -co BIGTIFF=YES --config GDAL_CACHEMAX 16384\n",
    "!rm data/reference/ortofoto_reference_epsg4326_nodata_mask.tif\n",
    "!mv data/reference/ortofoto_reference_epsg4326_nodata_mask_cog.tif data/reference/ortofoto_reference_epsg4326_nodata_mask.tif\n",
    "'''"
   ]
  },
  {
   "cell_type": "code",
   "execution_count": null,
   "metadata": {
    "ExecuteTime": {
     "end_time": "2021-07-16T13:40:19.862622Z",
     "start_time": "2021-07-16T13:40:19.324816Z"
    },
    "execution": {
     "iopub.execute_input": "2021-07-16T12:31:26.285270Z",
     "iopub.status.busy": "2021-07-16T12:31:26.284641Z",
     "iopub.status.idle": "2021-07-16T12:31:26.838892Z",
     "shell.execute_reply": "2021-07-16T12:31:26.836806Z",
     "shell.execute_reply.started": "2021-07-16T12:31:26.285216Z"
    }
   },
   "outputs": [],
   "source": [
    "# Set the max. cache for gdal\n",
    "!export GDAL_CACHEMAX=16384  # GDAL cache size in MB"
   ]
  },
  {
   "cell_type": "code",
   "execution_count": null,
   "metadata": {
    "ExecuteTime": {
     "start_time": "2021-07-16T13:40:52.390Z"
    },
    "execution": {
     "iopub.execute_input": "2021-07-16T12:31:26.855754Z",
     "iopub.status.busy": "2021-07-16T12:31:26.855308Z"
    }
   },
   "outputs": [],
   "source": [
    "from arosics import COREG\n",
    "from pathlib import Path\n",
    "from tqdm import tqdm\n",
    "\n",
    "# Find all images to be co-registered\n",
    "im_targets = sorted(list(Path('/workspace/output_dir').glob('*.tif')))\n",
    "\n",
    "# Do the co-registration\n",
    "failed_im_targets = []\n",
    "for im_target in tqdm(im_targets):\n",
    "    # Define the destination path of the image after correction\n",
    "    dst_path = Path('/workspace') / 'output_dir_coreg' / (im_target.stem + '_coreg.tif')\n",
    "    \n",
    "    # Set the path of the reference image to use for correcting\n",
    "    reference_im_path = Path('/workspace/mnt/app/data/reference')\n",
    "    im_reference = str(reference_im_path / 'ortofoto_reference_epsg4326.tif')\n",
    "    \n",
    "    print(\"\")\n",
    "    print(\"---------------------------------------\")\n",
    "    print(f\"Co-registering {str(im_target)}\")\n",
    "    print(f\"to reference image {str(im_reference)}\")\n",
    "    print(f\"and saving output to {str(dst_path)}\")\n",
    "    if not dst_path.exists():\n",
    "        # Run the co-registration algorithm using the Arosics package\n",
    "        try:\n",
    "            kwargs = {\n",
    "            #     'mask_baddata_ref': str(reference_im_path / 'ortofoto_reference_epsg4326_nodata_mask.tif'),\n",
    "                'path_out': str(dst_path),\n",
    "                'fmt_out': 'COG',  # Output Cloud Optimized GeoTIFF (COG) format\n",
    "                'out_crea_options': ['COMPRESS=DEFLATE', 'NUM_THREADS=ALL_CPUS', 'BIGTIFF=YES'],  # Use DEFLATE compression for the output geotiff\n",
    "                'wp': (9.20, 56.10),  # Use a manually chosen window position\n",
    "                'ws': (8192, 8192),  # Use a manually chosen window size\n",
    "                'nodata': (255., -32768),  # Input/output nodata values\n",
    "                'calc_corners': False,  # We provided the window position and size manually, so no reason to calculate corners\n",
    "                'v': False,  # Verbose flag - all details for the calculations will be logged if True\n",
    "                'q': True # Quiet flag - nothing will be logged if True\n",
    "            }\n",
    "\n",
    "            CR = COREG(str(im_reference), str(im_target), **kwargs)\n",
    "            CR.calculate_spatial_shifts()\n",
    "            CR.correct_shifts()\n",
    "            print(\"Shift reliability is \" + str(round(CR.shift_reliability, 2)) + \"% for \" + str(dst_path))\n",
    "        except:\n",
    "            print(\"\")\n",
    "            print(f\"Error encountered with {str(im_target)}\")\n",
    "            failed_im_targets.append(im_target)\n",
    "    else:\n",
    "        print(\"\")\n",
    "        print(f\"Image has already been co-registered and saved to {str(dst_path)}\")\n",
    "    print(\"---------------------------------------\")\n",
    "        \n",
    "print(\"\")\n",
    "print(\"Following images were not co-registered:\")\n",
    "for failed_im_target in failed_im_targets:\n",
    "    print(str(failed_im_target))"
   ]
  },
  {
   "cell_type": "code",
   "execution_count": null,
   "metadata": {
    "ExecuteTime": {
     "start_time": "2021-07-16T13:40:52.605Z"
    }
   },
   "outputs": [],
   "source": [
    "# Try again for the failed ones, but set Arosics to verbose logging to see what the errors were\n",
    "for im_target in tqdm(failed_im_targets):\n",
    "    # Define the destination path of the image after correction\n",
    "    dst_path = Path('/workspace') / 'output_dir_coreg' / (im_target.stem + '_coreg.tif')\n",
    "\n",
    "    # Set the path of the reference image to use for correcting\n",
    "    reference_im_path = Path('/workspace/mnt/app/data/reference')\n",
    "    im_reference = str(reference_im_path / 'ortofoto_reference_epsg4326.tif')\n",
    "\n",
    "    print(\"\")\n",
    "    print(\"---------------------------------------\")\n",
    "    print(f\"Co-registering {str(im_target)}\")\n",
    "    print(f\"to reference img {str(im_reference)}\")\n",
    "    print(f\"and saving output to {str(dst_path)}\")\n",
    "    \n",
    "    # Run the co-registration algorithm using the Arosics package\n",
    "    try:\n",
    "        kwargs = {\n",
    "        #     'mask_baddata_ref': str(reference_im_path / 'ortofoto_reference_epsg4326_nodata_mask.tif'),\n",
    "            'path_out': str(dst_path),\n",
    "            'fmt_out': 'COG',  # Output Cloud Optimized GeoTIFF (COG) format\n",
    "            'out_crea_options': ['COMPRESS=DEFLATE', 'NUM_THREADS=ALL_CPUS', 'BIGTIFF=YES'],  # Use DEFLATE compression for the output geotiff\n",
    "            'wp': (9.20, 56.10),  # Use a manually chosen window position\n",
    "            'ws': (8192, 8192),  # Use a manually chosen window size\n",
    "            'nodata': (255., -32768),  # Input/output nodata values\n",
    "            'calc_corners': False,  # We provided the window position and size manually, so no reason to calculate corners\n",
    "            'v': True,  # Verbose flag - all details for the calculations will be logged if True\n",
    "            'q': False # Quiet flag - nothing will be logged if True\n",
    "        }\n",
    "\n",
    "        CR = COREG(str(im_reference), str(im_target), **kwargs)\n",
    "        CR.calculate_spatial_shifts()\n",
    "        CR.correct_shifts()\n",
    "        print(\"Shift reliability is \" + str(round(CR.shift_reliability, 2)) + \"% for \" + str(dst_path))\n",
    "    except:\n",
    "        print(\"\")\n",
    "        print(f\"Error encountered with {str(im_target)}\")\n",
    "    print(\"---------------------------------------\")"
   ]
  },
  {
   "cell_type": "code",
   "execution_count": null,
   "metadata": {},
   "outputs": [],
   "source": []
  }
 ],
 "metadata": {
  "kernelspec": {
   "display_name": "Python 3",
   "language": "python",
   "name": "python3"
  },
  "language_info": {
   "codemirror_mode": {
    "name": "ipython",
    "version": 3
   },
   "file_extension": ".py",
   "mimetype": "text/x-python",
   "name": "python",
   "nbconvert_exporter": "python",
   "pygments_lexer": "ipython3",
   "version": "3.8.5"
  },
  "toc": {
   "base_numbering": 1,
   "nav_menu": {},
   "number_sections": false,
   "sideBar": true,
   "skip_h1_title": false,
   "title_cell": "Table of Contents",
   "title_sidebar": "Contents",
   "toc_cell": false,
   "toc_position": {},
   "toc_section_display": true,
   "toc_window_display": false
  }
 },
 "nbformat": 4,
 "nbformat_minor": 4
}

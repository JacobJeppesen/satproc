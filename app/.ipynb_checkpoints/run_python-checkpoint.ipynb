{
 "cells": [
  {
   "cell_type": "code",
   "execution_count": null,
   "metadata": {
    "execution": {
     "iopub.execute_input": "2021-03-31T08:06:27.622251Z",
     "iopub.status.busy": "2021-03-31T08:06:27.622009Z"
    }
   },
   "outputs": [],
   "source": [
    "!python app.py --username username \\\n",
    "               --password password \\\n",
    "               --data_directory /data/sentinelproc \\\n",
    "               --geojson denmark_without_bornholm \\\n",
    "               --satellite s1 \\\n",
    "               --startdate 20210320 \\\n",
    "               --enddate 20210325 \\\n",
    "               --s1_num_proc 1 \\\n",
    "               --s1_del_intermediate True \\\n",
    "               --s1_output_crs EPSG:32632 \\\n",
    "               --s2_num_proc 6 \\\n",
    "               --s2_relative_orbit 0"
   ]
  },
  {
   "cell_type": "code",
   "execution_count": null,
   "metadata": {},
   "outputs": [],
   "source": []
  }
 ],
 "metadata": {
  "kernelspec": {
   "display_name": "Python 3",
   "language": "python",
   "name": "python3"
  },
  "language_info": {
   "codemirror_mode": {
    "name": "ipython",
    "version": 3
   },
   "file_extension": ".py",
   "mimetype": "text/x-python",
   "name": "python",
   "nbconvert_exporter": "python",
   "pygments_lexer": "ipython3",
   "version": "3.8.5"
  }
 },
 "nbformat": 4,
 "nbformat_minor": 4
}
